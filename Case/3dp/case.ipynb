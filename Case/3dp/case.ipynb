{
 "cells": [
  {
   "cell_type": "markdown",
   "id": "e2eb3898-5efd-469c-88a0-765a50e62369",
   "metadata": {},
   "source": [
    "# Case\n",
    "## Imports"
   ]
  },
  {
   "cell_type": "code",
   "execution_count": 1,
   "id": "b5f19107-6506-4e5a-8b9f-084e8bdc7a13",
   "metadata": {},
   "outputs": [
    {
     "name": "stdout",
     "output_type": "stream",
     "text": [
      "Overwriting auto display for cadquery Workplane and Shape\n",
      "\n",
      "Enabling jupyter_cadquery replay\n",
      "\n",
      "jupyter_cadquery  3.1.0rc4\n",
      "cad_viewer_widget 1.3.2\n",
      "OCP               7.5.3\n"
     ]
    }
   ],
   "source": [
    "import cadquery as cq\n",
    "from cadquery import exporters\n",
    "\n",
    "from jupyter_cadquery import (\n",
    "    versions,\n",
    "    show, PartGroup, Part, \n",
    "    get_viewer, close_viewer, get_viewers, close_viewers, open_viewer, set_defaults, get_defaults, open_viewer,\n",
    "    get_pick,\n",
    ")\n",
    "\n",
    "from jupyter_cadquery.replay import replay, enable_replay, disable_replay\n",
    "\n",
    "enable_replay(False)\n",
    "\n",
    "set_defaults(\n",
    "    cad_width=640, \n",
    "    height=480, \n",
    ")\n",
    "\n",
    "print()\n",
    "versions()"
   ]
  },
  {
   "cell_type": "markdown",
   "id": "73238ce2-a7be-4d2a-8d74-b29af483af9b",
   "metadata": {},
   "source": [
    "## Viewer"
   ]
  },
  {
   "cell_type": "code",
   "execution_count": 2,
   "id": "b0d6ed70-74de-425e-9348-9f50b492bd92",
   "metadata": {},
   "outputs": [],
   "source": [
    "cv = open_viewer(\"Assembly\", cad_width=850, height=1240)\n",
    "set_defaults(viewer=\"Assembly\")"
   ]
  },
  {
   "cell_type": "markdown",
   "id": "925735c1-28d0-4aa1-8ae0-a1ddc7d85daf",
   "metadata": {},
   "source": [
    "## Constants"
   ]
  },
  {
   "cell_type": "code",
   "execution_count": 49,
   "id": "d6808eb7-5680-4607-a66e-de5ac78fd667",
   "metadata": {},
   "outputs": [],
   "source": [
    "BOTTOM_PLATE_HEIGHT = 1.0\n",
    "PCB_BOTTOM_SPACING = 2.4\n",
    "PCB_HEIGHT = 1.6\n",
    "PCB_SWITCH_PLATE_SPACING = 0.9\n",
    "SWITCH_PLATE_HEIGHT = 1.2\n",
    "OLED_SPACING = 8\n",
    "ACRYLIC_GLASS_HEIGHT = 3\n",
    "\n",
    "SWITCH_BORDER_HEIGHT = 5\n",
    "\n",
    "HOLES = [((96.9, 107.88), 2, 0), \n",
    "         ((175.28, 86.28), 2, 0), \n",
    "         ((135.05, 37), 3, BOTTOM_PLATE_HEIGHT + 3)]"
   ]
  },
  {
   "cell_type": "markdown",
   "id": "ed506a52-cfeb-427b-a270-d551c61d80e9",
   "metadata": {},
   "source": [
    "## Helper Functions"
   ]
  },
  {
   "cell_type": "code",
   "execution_count": 82,
   "id": "04d27c8e-94d4-4703-899d-eefa20842f67",
   "metadata": {},
   "outputs": [],
   "source": [
    "def createCaseOutline():\n",
    "    return cq.Workplane(\"XY\")\\\n",
    "    .moveTo(78.77, -42.15)\\\n",
    "    .lineTo(78.77, -90.9)\\\n",
    "    .radiusArc((75.91, -96.0), 8)\\\n",
    "    .lineTo(70.57, -99.08)\\\n",
    "    .radiusArc((68.98, -105.04), -4.3)\\\n",
    "    .lineTo(82.05, -127.54)\\\n",
    "    .radiusArc((88.00, -129.13), -4.3)\\\n",
    "    .radiusArc((118.04, -116.55), 79.9)\\\n",
    "    .lineTo(176.41, -116.55)\\\n",
    "    .radiusArc((179.39, -113.61), -2.9)\\\n",
    "    .lineTo(179.39, -110.34)\\\n",
    "    .radiusArc((182.34, -107.39), 2.9)\\\n",
    "    .lineTo(194.62, -107.39)\\\n",
    "    .radiusArc((197.6, -104.45), -2.9)\\\n",
    "    .lineTo(197.6, -51.11)\\\n",
    "    .radiusArc((194.66, -48.13), -2.9)\\\n",
    "    .lineTo(182.34, -48.14)\\\n",
    "    .radiusArc((179.4, -45.16), 2.9)\\\n",
    "    .lineTo(179.4, -41.12)\\\n",
    "    .radiusArc((177.15, -37.56), -3.7)\\\n",
    "    .radiusArc((103.15, -37.15), -104.25)\\\n",
    "    .lineTo(83.77, -37.15)\\\n",
    "    .radiusArc((78.77, -42.15), -5)\\\n",
    "    .close()\n",
    "\n",
    "def createBottomPlate():\n",
    "    return createCaseOutline()\\\n",
    "        .faces()\\\n",
    "        .offset2D(-3)\\\n",
    "        .extrude(BOTTOM_PLATE_HEIGHT)\n",
    "\n",
    "def extrudeDisplayCover(case, offset):\n",
    "    workplane = case.faces(\">Z\").workplane().moveTo(78.77, -42.15)\\\n",
    "        .lineTo(78.77, -90.9)\\\n",
    "        .lineTo(103.15, -90.9)\\\n",
    "        .lineTo(103.15, -37.15)\\\n",
    "        .lineTo(83.77, -37.15)\\\n",
    "        .radiusArc((78.77, -42.15), -5)\\\n",
    "        .close()\\\n",
    "        .workplane(offset=offset)\n",
    "    return workplane.moveTo(82.77, -42.15)\\\n",
    "    .lineTo(82.77, -85.9)\\\n",
    "    .lineTo(103.15, -85.9)\\\n",
    "    .lineTo(103.15, -39.15)\\\n",
    "    .lineTo(83.77, -39.15)\\\n",
    "    .radiusArc((82.77, -42.15), -5)\\\n",
    "    .close()\\\n",
    "    .loft(combine=True)\n",
    "\n",
    "def cutBottomPlate(case):\n",
    "    return case.cut(createBottomPlate())\n",
    "\n",
    "def cutSwitchHoles(case):\n",
    "    innerZOffset = BOTTOM_PLATE_HEIGHT + PCB_BOTTOM_SPACING + PCB_HEIGHT + PCB_SWITCH_PLATE_SPACING\n",
    "    innerCutout = cq.importers.importDXF('switch_outline.dxf', tol=1e-3)\\\n",
    "        .wires()\\\n",
    "        .toPending()\\\n",
    "        .faces()\\\n",
    "        .extrude(SWITCH_PLATE_HEIGHT)\\\n",
    "        .translate((0, 0, innerZOffset))\n",
    "    outerZOffset = BOTTOM_PLATE_HEIGHT + PCB_BOTTOM_SPACING + PCB_HEIGHT\n",
    "    outerCutout = cq.importers.importDXF('switch_outline.dxf', tol=1e-3)\\\n",
    "        .wires()\\\n",
    "        .toPending()\\\n",
    "        .faces()\\\n",
    "        .offset2D(1)\\\n",
    "        .extrude(PCB_SWITCH_PLATE_SPACING)\\\n",
    "        .translate((0, 0, outerZOffset))\n",
    "    return case.cut(innerCutout).cut(outerCutout)\n",
    "\n",
    "def cutKeycapsBorder(case):\n",
    "    zOffset = BOTTOM_PLATE_HEIGHT + PCB_BOTTOM_SPACING + PCB_HEIGHT + SWITCH_PLATE_HEIGHT + PCB_SWITCH_PLATE_SPACING\n",
    "    cutout = cq.importers.importDXF('keycaps_outline.dxf', tol=1e-3)\\\n",
    "        .wires()\\\n",
    "        .toPending()\\\n",
    "        .faces()\\\n",
    "        .extrude(SWITCH_BORDER_HEIGHT + 5)\\\n",
    "        .translate((0, 0, zOffset))\n",
    "    return case.cut(cutout)\n",
    "\n",
    "def cutTrackPointShieldIndentation(case):\n",
    "    zOffset = BOTTOM_PLATE_HEIGHT + PCB_BOTTOM_SPACING + PCB_HEIGHT \n",
    "    workplane = case.faces(\"<Z\").workplane()\n",
    "    mainCutout = workplane.moveTo(137.93, 93.41)\\\n",
    "        .lineTo(137.93, 111.29)\\\n",
    "        .lineTo(174.16, 111.29)\\\n",
    "        .lineTo(174.16, 93.41)\\\n",
    "        .close()\\\n",
    "        .extrude(-2, combine=False)\\\n",
    "        .translate((0, 0, zOffset))\n",
    "    con1Cutout = workplane.moveTo(133, 90)\\\n",
    "        .lineTo(133, 111.29)\\\n",
    "        .lineTo(138, 111.29)\\\n",
    "        .lineTo(138, 90)\\\n",
    "        .close()\\\n",
    "        .extrude(-PCB_SWITCH_PLATE_SPACING, combine=False)\\\n",
    "        .translate((0, 0, zOffset))\n",
    "    con2Cutout = workplane.moveTo(133, 90)\\\n",
    "        .lineTo(133, 111.29)\\\n",
    "        .lineTo(164, 111.29)\\\n",
    "        .lineTo(164, 90)\\\n",
    "        .close()\\\n",
    "        .extrude(-PCB_SWITCH_PLATE_SPACING, combine=False)\\\n",
    "        .translate((0, 0, zOffset))\n",
    "    return case.cut(mainCutout).cut(con1Cutout).cut(con2Cutout)\n",
    "\n",
    "def cutPcb(case):\n",
    "    zOffset = BOTTOM_PLATE_HEIGHT\n",
    "    cutout = cq.importers.importDXF('pcb_outline.dxf', tol=1e-3)\\\n",
    "        .wires()\\\n",
    "        .toPending()\\\n",
    "        .faces()\\\n",
    "        .extrude(PCB_BOTTOM_SPACING + PCB_HEIGHT)\\\n",
    "        .translate((0, 0, zOffset))\n",
    "    return case.cut(cutout)\n",
    "\n",
    "def cutMcuAndAudioJackIndentation(case):\n",
    "    zOffset = BOTTOM_PLATE_HEIGHT + PCB_BOTTOM_SPACING + PCB_HEIGHT\n",
    "    workplane = case.faces(\"<Z\").workplane()\n",
    "    cutout = workplane.moveTo(82.78,88.81)\\\n",
    "        .lineTo(82.78, 96.18)\\\n",
    "        .lineTo(101.51, 96.18)\\\n",
    "        .lineTo(101.51, 88.81)\\\n",
    "        .close()\\\n",
    "        .extrude(-(0.2 + PCB_SWITCH_PLATE_SPACING), combine=False)\\\n",
    "        .translate((0, 0, zOffset))\n",
    "    audioJackIndentation = workplane.moveTo(82.78,82.42)\\\n",
    "        .lineTo(82.78, 88.81)\\\n",
    "        .lineTo(101.51, 88.81)\\\n",
    "        .lineTo(101.51, 82.42)\\\n",
    "        .close()\\\n",
    "        .extrude(-(5.5 + PCB_SWITCH_PLATE_SPACING), combine=False)\\\n",
    "        .translate((0, 0, zOffset))\n",
    "    mcuIndentation = workplane.moveTo(82.78,42.26)\\\n",
    "        .lineTo(82.78, 82.42)\\\n",
    "        .lineTo(101.51, 82.42)\\\n",
    "        .lineTo(101.51, 42.26)\\\n",
    "        .close()\\\n",
    "        .extrude(-OLED_SPACING, combine=False)\\\n",
    "        .translate((0, 0, zOffset))\n",
    "    \n",
    "    return case.cut(cutout).cut(audioJackIndentation).cut(mcuIndentation)\n",
    "\n",
    "def cutAcrylicGlassWindow(case):\n",
    "    top = case.faces(\">Z\").vertices().first().val().Center().z - ACRYLIC_GLASS_HEIGHT\n",
    "    cutout = cq.Workplane(\"XY\")\\\n",
    "        .moveTo(86.38, -48.14)\\\n",
    "        .lineTo(86.38, -75.14)\\\n",
    "        .lineTo(98.38, -75.14)\\\n",
    "        .lineTo(98.38, -48.14)\\\n",
    "        .close()\\\n",
    "        .extrude(ACRYLIC_GLASS_HEIGHT, combine = False)\\\n",
    "        .translate((0, 0, top))\n",
    "    return case.cut(cutout)\n",
    "\n",
    "def cutAudioJackHole(case, rightSide):\n",
    "    jackRadius = 2.5\n",
    "    shieldPcbHeight = 0.6\n",
    "    zOffset = BOTTOM_PLATE_HEIGHT + PCB_BOTTOM_SPACING + jackRadius - shieldPcbHeight\n",
    "    yOffset = -83.81 if rightSide else -85.55\n",
    "    side = case.faces(\">X[0]\").workplane(centerOption=\"ProjectedOrigin\", origin=(82.77, yOffset, zOffset))\n",
    "    inner = side.circle(2.5).extrude(-5,combine=False)\n",
    "    outer = side.circle(3.7).extrude(-2,combine=False)\n",
    "    slideCutout = cq.Workplane(\"XY\").moveTo(81.00, yOffset - jackRadius)\\\n",
    "        .lineTo(81.00, yOffset + jackRadius)\\\n",
    "        .lineTo(82.80, yOffset + jackRadius)\\\n",
    "        .lineTo(82.80, yOffset - jackRadius)\\\n",
    "        .close()\\\n",
    "        .extrude(zOffset + jackRadius, combine=False)\n",
    "    \n",
    "    return case.cut(inner).cut(outer).cut(slideCutout)\n",
    "\n",
    "\n",
    "def cutUsbCConnector(case):\n",
    "    zOrigin = BOTTOM_PLATE_HEIGHT + PCB_BOTTOM_SPACING + 2.5\n",
    "    workplane = case.faces(\"<Y[3]\").workplane(centerOption=\"ProjectedOrigin\", origin=(92.41, -41.75, zOrigin))\n",
    "    inner = workplane.rect(9, 3.5).extrude(-6, combine=False).edges(\"-Y\").fillet(1.7)\n",
    "    outer = workplane.rect(12, 7).extrude(-2.5, combine=False).edges(\"-Y\").fillet(3.4)\n",
    "    return case.cut(inner).cut(outer)\n",
    "\n",
    "def cutMountingHoles(case):\n",
    "    for hole in HOLES:\n",
    "        case = cutHole(case, hole[0], diameter = hole[1], depth = hole[2])\n",
    "    return case\n",
    "\n",
    "def cutTrackpointHole(case):\n",
    "    zOffset = BOTTOM_PLATE_HEIGHT + PCB_BOTTOM_SPACING + PCB_HEIGHT \n",
    "    workplane = case.faces(\"<Z\").workplane()\n",
    "    screwCutout1 = workplane.moveTo(118.98, 46.63)\\\n",
    "        .lineTo(118.98, 51.17)\\\n",
    "        .lineTo(123.55, 51.17)\\\n",
    "        .lineTo(123.55, 46.63)\\\n",
    "        .close()\\\n",
    "        .extrude(-PCB_SWITCH_PLATE_SPACING, combine=False)\\\n",
    "        .translate((0, 0, zOffset))\n",
    "    screwCutout2 = workplane.moveTo(118.98, 65.6)\\\n",
    "        .lineTo(118.98, 70.14)\\\n",
    "        .lineTo(123.55, 70.14)\\\n",
    "        .lineTo(123.55, 65.6)\\\n",
    "        .close()\\\n",
    "        .extrude(-PCB_SWITCH_PLATE_SPACING, combine=False)\\\n",
    "        .translate((0, 0, zOffset))\n",
    "    return cutHole(case.cut(screwCutout1).cut(screwCutout2), (121.227683, 58.4))\n",
    "\n",
    "def cutHole(case, pnt, diameter = 2, depth = 0):\n",
    "    defaultDepth = BOTTOM_PLATE_HEIGHT + PCB_BOTTOM_SPACING + PCB_HEIGHT + SWITCH_PLATE_HEIGHT + PCB_SWITCH_PLATE_SPACING\n",
    "    d = defaultDepth if depth == 0 else depth\n",
    "    return case.faces(\"<Z\").workplane().moveTo(pnt[0], pnt[1]).hole(diameter, d)\n",
    "\n",
    "def createBaseCase():\n",
    "    height = SWITCH_BORDER_HEIGHT\\\n",
    "            + SWITCH_PLATE_HEIGHT\\\n",
    "            + PCB_SWITCH_PLATE_SPACING\\\n",
    "            + PCB_HEIGHT\\\n",
    "            + PCB_BOTTOM_SPACING\\\n",
    "            + BOTTOM_PLATE_HEIGHT\n",
    "    return createCaseOutline()\\\n",
    "        .faces()\\\n",
    "        .extrude(height)"
   ]
  },
  {
   "cell_type": "markdown",
   "id": "709e595b-a35b-4c4c-ad83-eba5af945930",
   "metadata": {},
   "source": [
    "## Wired Case (right)"
   ]
  },
  {
   "cell_type": "code",
   "execution_count": 83,
   "id": "c13000aa-e2dd-4f1b-815b-1120de0e4428",
   "metadata": {},
   "outputs": [],
   "source": [
    "displayExtrusion = OLED_SPACING + ACRYLIC_GLASS_HEIGHT - SWITCH_BORDER_HEIGHT - PCB_SWITCH_PLATE_SPACING - SWITCH_PLATE_HEIGHT\n",
    "\n",
    "caseWiredRight = createBaseCase()\n",
    "caseWiredRight = extrudeDisplayCover(caseWiredRight, displayExtrusion).edges().fillet(1.9)\n",
    "caseWiredRight = cutPcb(caseWiredRight)\n",
    "caseWiredRight = cutKeycapsBorder(caseWiredRight)\n",
    "caseWiredRight = cutSwitchHoles(caseWiredRight)\n",
    "caseWiredRight = cutBottomPlate(caseWiredRight)\n",
    "caseWiredRight = cutTrackPointShieldIndentation(caseWiredRight)\n",
    "caseWiredRight = cutAcrylicGlassWindow(caseWiredRight)\n",
    "caseWiredRight = cutUsbCConnector(caseWiredRight)\n",
    "caseWiredRight = cutAudioJackHole(caseWiredRight, rightSide=True)\n",
    "caseWiredRight = cutMcuAndAudioJackIndentation(caseWiredRight)\n",
    "caseWiredRight = cutMountingHoles(caseWiredRight)\n",
    "caseWiredRight = cutTrackpointHole(caseWiredRight)"
   ]
  },
  {
   "cell_type": "code",
   "execution_count": 84,
   "id": "b2a1c02a-9c82-40a8-b758-225a4a37a1ec",
   "metadata": {},
   "outputs": [
    {
     "data": {
      "text/plain": [
       "<cad_viewer_widget.widget.CadViewer at 0x7f7652323730>"
      ]
     },
     "execution_count": 84,
     "metadata": {},
     "output_type": "execute_result"
    }
   ],
   "source": [
    "show(caseWiredRight)"
   ]
  },
  {
   "cell_type": "markdown",
   "id": "140ed53b-3611-4f0a-bd65-078865882f54",
   "metadata": {},
   "source": [
    "# TODO\n",
    "* Increase 1.5U key wall"
   ]
  },
  {
   "cell_type": "markdown",
   "id": "27af8617-aeff-4cd9-9399-d941dc5df1e8",
   "metadata": {},
   "source": [
    "## Bottom Plate (right)"
   ]
  },
  {
   "cell_type": "code",
   "execution_count": 74,
   "id": "bce49919-033f-41af-985e-012cad7a7ce9",
   "metadata": {},
   "outputs": [],
   "source": [
    "bottomPlateRight = createBottomPlate()\n",
    "bottomPlateRight = cutHole(bottomPlateRight, (117.16, 100.71)) # Reset Button"
   ]
  },
  {
   "cell_type": "code",
   "execution_count": 75,
   "id": "1d068928-607b-4662-8610-400da35769f7",
   "metadata": {},
   "outputs": [],
   "source": [
    "bottomPlateRight = cutHole(bottomPlateRight, (89.3, 47.24), diameter=10.1, depth=0.4)\n",
    "bottomPlateRight = cutHole(bottomPlateRight, (167.16, 44.34), diameter=10.1, depth=0.4)\n",
    "bottomPlateRight = cutHole(bottomPlateRight, (88.28, 115.6), diameter=10.1, depth=0.4)\n",
    "bottomPlateRight = cutHole(bottomPlateRight, (187.00, 96.00), diameter=10.1, depth=0.4)"
   ]
  },
  {
   "cell_type": "code",
   "execution_count": 76,
   "id": "69b65c4a-14a8-4765-8111-f9a0fd9349f1",
   "metadata": {},
   "outputs": [],
   "source": [
    "for hole in HOLES:\n",
    "    bottomPlateRight = bottomPlateRight.faces(\"<Z[2]\")\\\n",
    "        .workplane(centerOption=\"ProjectedOrigin\", origin=(hole[0][0], -hole[0][1], 0))\\\n",
    "        .cskHole(2, 3, 82, depth=None)"
   ]
  },
  {
   "cell_type": "code",
   "execution_count": 77,
   "id": "1187a106-c0f6-4514-bacd-4ce0e60dc8aa",
   "metadata": {},
   "outputs": [
    {
     "data": {
      "text/plain": [
       "<cad_viewer_widget.widget.CadViewer at 0x7f7652323730>"
      ]
     },
     "execution_count": 77,
     "metadata": {},
     "output_type": "execute_result"
    }
   ],
   "source": [
    "show(bottomPlateRight)"
   ]
  },
  {
   "cell_type": "code",
   "execution_count": 85,
   "id": "7178ed02-61e2-4ab3-b374-7df46bd9e052",
   "metadata": {},
   "outputs": [
    {
     "name": "stdout",
     "output_type": "stream",
     "text": [
      "100% ⋮————————————————————————————————————————————————————————————⋮ (2/2)  0.40s\n"
     ]
    },
    {
     "data": {
      "text/plain": [
       "<cad_viewer_widget.widget.CadViewer at 0x7f7652323730>"
      ]
     },
     "execution_count": 85,
     "metadata": {},
     "output_type": "execute_result"
    }
   ],
   "source": [
    "all = (cq.Assembly()\\\n",
    "       .add(caseWiredRight, name=\"case\", color=cq.Color(\"paleturquoise3\"))\\\n",
    "       .add(bottomPlateRight, name=\"plate\", color=cq.Color(\"paleturquoise4\"))\n",
    "      )\n",
    "show(all)"
   ]
  },
  {
   "cell_type": "code",
   "execution_count": 12,
   "id": "29573b67-1f69-4758-9e2f-cea22e6f83bd",
   "metadata": {},
   "outputs": [],
   "source": [
    "exporters.export(caseWiredRight, 'case_wired_right.stl')\n",
    "exporters.export(bottomPlateRight, 'bottomPlate_right.stl')"
   ]
  },
  {
   "cell_type": "markdown",
   "id": "8b024d1e-2899-4e46-bf3a-2a84039e1b3d",
   "metadata": {},
   "source": [
    "## Wireless Case"
   ]
  },
  {
   "cell_type": "code",
   "execution_count": 67,
   "id": "2ec5f1d6-04c4-4fd5-9a97-9096d23d1ee5",
   "metadata": {},
   "outputs": [],
   "source": [
    "def cutLcd(case):\n",
    "    lcdWith = 14\n",
    "    lcdHeight = 32\n",
    "    lcdHeightExtra = 4 # for bending the FCC\n",
    "    lcdDepth = 1\n",
    "    top = caseWireless.faces(\">Z\").vertices().first().val().Center().z\n",
    "    lcd = cq.Workplane(\"XY\", origin=(0, 0, 0))\\\n",
    "        .box(lcdWith, lcdHeight + lcdHeightExtra, lcdDepth, centered=False)\\\n",
    "        .faces(\">Z\")\\\n",
    "        .workplane(origin = (1.6, lcdHeight + lcdHeightExtra - 25.2 - 1.6, 0))\\\n",
    "        .box(10.7, 25.2, 1, centered=False)\\\n",
    "        .translate((85.38, -(78 + lcdHeightExtra), top-2))\n",
    "    return case.cut(lcd)\n",
    "def cutMWirelessMcuIndentation(case):\n",
    "    top = caseWireless.faces(\">Z\").vertices().first().val().Center().z\n",
    "    top = caseWireless.faces(\">Z\").vertices().first().val().Center().z\n",
    "    zOffset = BOTTOM_PLATE_HEIGHT + PCB_BOTTOM_SPACING + PCB_HEIGHT\n",
    "    workplane = case.faces(\"<Z\").workplane()\n",
    "    cutout = workplane.moveTo(82.78,88.81)\\\n",
    "        .lineTo(82.78, 96.18)\\\n",
    "        .lineTo(101.51, 96.18)\\\n",
    "        .lineTo(101.51, 88.81)\\\n",
    "        .close()\\\n",
    "        .extrude(-2.6, combine=False)\\\n",
    "        .translate((0, 0, zOffset))\n",
    "    audioJackIndentation = workplane.moveTo(82.78,82.42)\\\n",
    "        .lineTo(82.78, 88.81)\\\n",
    "        .lineTo(101.51, 88.81)\\\n",
    "        .lineTo(101.51, 82.42)\\\n",
    "        .close()\\\n",
    "        .extrude(-2.6, combine=False)\\\n",
    "        .translate((0, 0, zOffset))\n",
    "    mcuIndentation = workplane.moveTo(82.78,42.26)\\\n",
    "        .lineTo(82.78, 82.42)\\\n",
    "        .lineTo(101.51, 82.42)\\\n",
    "        .lineTo(101.51, 42.26)\\\n",
    "        .close()\\\n",
    "        .extrude(-(top - 2),combine=False)\\\n",
    "    \n",
    "    return case.cut(cutout).cut(audioJackIndentation).cut(mcuIndentation)"
   ]
  },
  {
   "cell_type": "code",
   "execution_count": 68,
   "id": "956f3974-94e6-4ec3-8b48-0331831f719f",
   "metadata": {},
   "outputs": [],
   "source": [
    "LCD_SPACING = 5.5\n",
    "caseWireless = createBaseCase()\n",
    "caseWireless = extrudeDisplayCover(caseWireless, 12 - SWITCH_BORDER_HEIGHT).edges().fillet(2)\n",
    "                    \n",
    "caseWireless = cutPcb(caseWireless)\n",
    "caseWireless = cutKeycapsBorder(caseWireless)\n",
    "caseWireless = cutSwitchHoles(caseWireless)\n",
    "caseWireless = cutBottomPlate(caseWireless)\n",
    "caseWireless = cutTrackPointShieldIndentation(caseWireless)\n",
    "caseWireless = cutUsbCConnector(caseWireless)\n",
    "caseWireless = cutMountingHoles(caseWireless)\n",
    "#caseWireless = cutLcd(caseWireless)\n",
    "#caseWireless = cutMWirelessMcuIndentation(caseWireless)\n"
   ]
  },
  {
   "cell_type": "code",
   "execution_count": 69,
   "id": "a98e279c-5772-455b-ba36-7377aad57aa6",
   "metadata": {},
   "outputs": [
    {
     "data": {
      "text/plain": [
       "<cad_viewer_widget.widget.CadViewer at 0x7fb1241911f0>"
      ]
     },
     "execution_count": 69,
     "metadata": {},
     "output_type": "execute_result"
    }
   ],
   "source": [
    "show(caseWireless)"
   ]
  },
  {
   "cell_type": "code",
   "execution_count": 70,
   "id": "2999add2-64a1-4164-a39b-ab7656fe4be0",
   "metadata": {},
   "outputs": [],
   "source": [
    "offset = BOTTOM_PLATE_HEIGHT + PCB_BOTTOM_SPACING + PCB_HEIGHT + PCB_SWITCH_PLATE_SPACING + SWITCH_PLATE_HEIGHT + 5 + 1 + 1\n",
    "b = cq.Workplane(\"XY\").box(400, 400, 200).translate((0, 0, offset+100))"
   ]
  },
  {
   "cell_type": "code",
   "execution_count": 71,
   "id": "bb311423-79ea-4a25-9e68-44d1e8c8cf99",
   "metadata": {},
   "outputs": [
    {
     "data": {
      "text/plain": [
       "<cad_viewer_widget.widget.CadViewer at 0x7fb1241911f0>"
      ]
     },
     "execution_count": 71,
     "metadata": {},
     "output_type": "execute_result"
    }
   ],
   "source": [
    "show(b)"
   ]
  },
  {
   "cell_type": "code",
   "execution_count": 72,
   "id": "d66856b1-e5b1-4a3d-a7b5-66ec8195884a",
   "metadata": {},
   "outputs": [
    {
     "name": "stdout",
     "output_type": "stream",
     "text": [
      "100% ⋮————————————————————————————————————————————————————————————⋮ (2/2)  0.41s\n"
     ]
    },
    {
     "data": {
      "text/plain": [
       "<cad_viewer_widget.widget.CadViewer at 0x7fb1241911f0>"
      ]
     },
     "execution_count": 72,
     "metadata": {},
     "output_type": "execute_result"
    }
   ],
   "source": [
    "all = (cq.Assembly()\\\n",
    "       .add(caseWireless, name=\"case\", color=cq.Color(\"paleturquoise3\"))\\\n",
    "       .add(b, name=\"plate\", color=cq.Color(\"paleturquoise4\"))\n",
    "      )\n",
    "show(all)"
   ]
  },
  {
   "cell_type": "code",
   "execution_count": 73,
   "id": "c49d16b5-5510-4de1-8e1f-c1f836fec8d5",
   "metadata": {},
   "outputs": [],
   "source": [
    "c = caseWireless.cut(b)"
   ]
  },
  {
   "cell_type": "code",
   "execution_count": 74,
   "id": "8ab84554-a54d-4b42-8057-8b1f9823acbc",
   "metadata": {},
   "outputs": [],
   "source": [
    "caseWireless = c\n",
    "c"
   ]
  },
  {
   "cell_type": "code",
   "execution_count": 85,
   "id": "0d5bebfd-2ce0-4b35-90f1-e2c69ee96a7d",
   "metadata": {},
   "outputs": [
    {
     "ename": "StdFail_NotDone",
     "evalue": "BRep_API: command not done",
     "output_type": "error",
     "traceback": [
      "\u001b[0;31m---------------------------------------------------------------------------\u001b[0m",
      "\u001b[0;31mStdFail_NotDone\u001b[0m                           Traceback (most recent call last)",
      "Input \u001b[0;32mIn [85]\u001b[0m, in \u001b[0;36m<cell line: 1>\u001b[0;34m()\u001b[0m\n\u001b[0;32m----> 1\u001b[0m \u001b[43mcaseWireless\u001b[49m\u001b[38;5;241;43m.\u001b[39;49m\u001b[43mfaces\u001b[49m\u001b[43m(\u001b[49m\u001b[38;5;124;43m\"\u001b[39;49m\u001b[38;5;124;43m>Z\u001b[39;49m\u001b[38;5;124;43m\"\u001b[39;49m\u001b[43m)\u001b[49m\u001b[38;5;241;43m.\u001b[39;49m\u001b[43medges\u001b[49m\u001b[43m(\u001b[49m\u001b[43m)\u001b[49m\u001b[38;5;241;43m.\u001b[39;49m\u001b[43mtoPending\u001b[49m\u001b[43m(\u001b[49m\u001b[43m)\u001b[49m\u001b[38;5;241;43m.\u001b[39;49m\u001b[43mclean\u001b[49m\u001b[43m(\u001b[49m\u001b[43m)\u001b[49m\u001b[38;5;241;43m.\u001b[39;49m\u001b[43mfillet\u001b[49m\u001b[43m(\u001b[49m\u001b[38;5;241;43m1\u001b[39;49m\u001b[43m)\u001b[49m\n",
      "File \u001b[0;32m/opt/conda/envs/cq/lib/python3.9/site-packages/jupyter_cadquery/replay.py:203\u001b[0m, in \u001b[0;36m_add_context.<locals>.intercept.<locals>.f\u001b[0;34m(*args, **kwargs)\u001b[0m\n\u001b[1;32m    200\u001b[0m     _CTX\u001b[38;5;241m.\u001b[39mupdate(func\u001b[38;5;241m.\u001b[39m\u001b[38;5;18m__name__\u001b[39m, args, kwargs)\n\u001b[1;32m    201\u001b[0m     _trace(_CTX)\n\u001b[0;32m--> 203\u001b[0m result \u001b[38;5;241m=\u001b[39m \u001b[43mfunc\u001b[49m\u001b[43m(\u001b[49m\u001b[38;5;241;43m*\u001b[39;49m\u001b[43margs\u001b[49m\u001b[43m,\u001b[49m\u001b[43m \u001b[49m\u001b[38;5;241;43m*\u001b[39;49m\u001b[38;5;241;43m*\u001b[39;49m\u001b[43mkwargs\u001b[49m\u001b[43m)\u001b[49m\n\u001b[1;32m    205\u001b[0m \u001b[38;5;28;01mif\u001b[39;00m func\u001b[38;5;241m.\u001b[39m\u001b[38;5;18m__name__\u001b[39m \u001b[38;5;241m==\u001b[39m _CTX\u001b[38;5;241m.\u001b[39mfunc:\n\u001b[1;32m    206\u001b[0m     _CTX\u001b[38;5;241m.\u001b[39mobj \u001b[38;5;241m=\u001b[39m result\n",
      "File \u001b[0;32m/opt/conda/envs/cq/lib/python3.9/site-packages/cadquery/cq.py:1288\u001b[0m, in \u001b[0;36mWorkplane.fillet\u001b[0;34m(self, radius)\u001b[0m\n\u001b[1;32m   1285\u001b[0m \u001b[38;5;28;01mif\u001b[39;00m \u001b[38;5;28mlen\u001b[39m(edgeList) \u001b[38;5;241m<\u001b[39m \u001b[38;5;241m1\u001b[39m:\n\u001b[1;32m   1286\u001b[0m     \u001b[38;5;28;01mraise\u001b[39;00m \u001b[38;5;167;01mValueError\u001b[39;00m(\u001b[38;5;124m\"\u001b[39m\u001b[38;5;124mFillets requires that edges be selected\u001b[39m\u001b[38;5;124m\"\u001b[39m)\n\u001b[0;32m-> 1288\u001b[0m s \u001b[38;5;241m=\u001b[39m \u001b[43msolid\u001b[49m\u001b[38;5;241;43m.\u001b[39;49m\u001b[43mfillet\u001b[49m\u001b[43m(\u001b[49m\u001b[43mradius\u001b[49m\u001b[43m,\u001b[49m\u001b[43m \u001b[49m\u001b[43medgeList\u001b[49m\u001b[43m)\u001b[49m\n\u001b[1;32m   1289\u001b[0m \u001b[38;5;28;01mreturn\u001b[39;00m \u001b[38;5;28mself\u001b[39m\u001b[38;5;241m.\u001b[39mnewObject([s\u001b[38;5;241m.\u001b[39mclean()])\n",
      "File \u001b[0;32m/opt/conda/envs/cq/lib/python3.9/site-packages/cadquery/occ_impl/shapes.py:2429\u001b[0m, in \u001b[0;36mMixin3D.fillet\u001b[0;34m(self, radius, edgeList)\u001b[0m\n\u001b[1;32m   2426\u001b[0m \u001b[38;5;28;01mfor\u001b[39;00m e \u001b[38;5;129;01min\u001b[39;00m nativeEdges:\n\u001b[1;32m   2427\u001b[0m     fillet_builder\u001b[38;5;241m.\u001b[39mAdd(radius, e)\n\u001b[0;32m-> 2429\u001b[0m \u001b[38;5;28;01mreturn\u001b[39;00m \u001b[38;5;28mself\u001b[39m\u001b[38;5;241m.\u001b[39m\u001b[38;5;18m__class__\u001b[39m(\u001b[43mfillet_builder\u001b[49m\u001b[38;5;241;43m.\u001b[39;49m\u001b[43mShape\u001b[49m\u001b[43m(\u001b[49m\u001b[43m)\u001b[49m)\n",
      "\u001b[0;31mStdFail_NotDone\u001b[0m: BRep_API: command not done"
     ]
    }
   ],
   "source": [
    "caseWireless.faces(\">Z\").edges().toPending().clean().fillet(1)"
   ]
  },
  {
   "cell_type": "code",
   "execution_count": 86,
   "id": "c05a4fc4-d461-44e3-92f1-5b710604776f",
   "metadata": {},
   "outputs": [],
   "source": [
    "caseWireless = cutLcd(caseWireless)\n",
    "caseWireless"
   ]
  },
  {
   "cell_type": "code",
   "execution_count": 87,
   "id": "514c365a-2cc1-4301-9bc6-dfcc299701f4",
   "metadata": {},
   "outputs": [
    {
     "name": "stderr",
     "output_type": "stream",
     "text": [
      "/opt/conda/envs/cq/lib/python3.9/site-packages/cadquery/occ_impl/shapes.py:1914: UserWarning: BRepBuilderAPI_MakeWire::Error(): returns the construction status. BRepBuilderAPI_WireDone if the wire is built, or another value of the BRepBuilderAPI_WireError enumeration indicating why the construction failed = BRepBuilderAPI_WireError.BRepBuilderAPI_DisconnectedWire\n",
      "  warnings.warn(w)\n"
     ]
    },
    {
     "ename": "StdFail_NotDone",
     "evalue": "BRep_API: command not done",
     "output_type": "error",
     "traceback": [
      "\u001b[0;31m---------------------------------------------------------------------------\u001b[0m",
      "\u001b[0;31mStdFail_NotDone\u001b[0m                           Traceback (most recent call last)",
      "Input \u001b[0;32mIn [87]\u001b[0m, in \u001b[0;36m<cell line: 1>\u001b[0;34m()\u001b[0m\n\u001b[0;32m----> 1\u001b[0m \u001b[43mcutMWirelessMcuIndentation\u001b[49m\u001b[43m(\u001b[49m\u001b[43mcaseWireless\u001b[49m\u001b[43m)\u001b[49m\n",
      "Input \u001b[0;32mIn [67]\u001b[0m, in \u001b[0;36mcutMWirelessMcuIndentation\u001b[0;34m(case)\u001b[0m\n\u001b[1;32m     17\u001b[0m zOffset \u001b[38;5;241m=\u001b[39m BOTTOM_PLATE_HEIGHT \u001b[38;5;241m+\u001b[39m PCB_BOTTOM_SPACING \u001b[38;5;241m+\u001b[39m PCB_HEIGHT\n\u001b[1;32m     18\u001b[0m workplane \u001b[38;5;241m=\u001b[39m case\u001b[38;5;241m.\u001b[39mfaces(\u001b[38;5;124m\"\u001b[39m\u001b[38;5;124m<Z\u001b[39m\u001b[38;5;124m\"\u001b[39m)\u001b[38;5;241m.\u001b[39mworkplane()\n\u001b[0;32m---> 19\u001b[0m cutout \u001b[38;5;241m=\u001b[39m \u001b[43mworkplane\u001b[49m\u001b[38;5;241;43m.\u001b[39;49m\u001b[43mmoveTo\u001b[49m\u001b[43m(\u001b[49m\u001b[38;5;241;43m82.78\u001b[39;49m\u001b[43m,\u001b[49m\u001b[38;5;241;43m88.81\u001b[39;49m\u001b[43m)\u001b[49m\u001b[43m\\\u001b[49m\n\u001b[1;32m     20\u001b[0m \u001b[43m    \u001b[49m\u001b[38;5;241;43m.\u001b[39;49m\u001b[43mlineTo\u001b[49m\u001b[43m(\u001b[49m\u001b[38;5;241;43m82.78\u001b[39;49m\u001b[43m,\u001b[49m\u001b[43m \u001b[49m\u001b[38;5;241;43m96.18\u001b[39;49m\u001b[43m)\u001b[49m\u001b[43m\\\u001b[49m\n\u001b[1;32m     21\u001b[0m \u001b[43m    \u001b[49m\u001b[38;5;241;43m.\u001b[39;49m\u001b[43mlineTo\u001b[49m\u001b[43m(\u001b[49m\u001b[38;5;241;43m101.51\u001b[39;49m\u001b[43m,\u001b[49m\u001b[43m \u001b[49m\u001b[38;5;241;43m96.18\u001b[39;49m\u001b[43m)\u001b[49m\u001b[43m\\\u001b[49m\n\u001b[1;32m     22\u001b[0m \u001b[43m    \u001b[49m\u001b[38;5;241;43m.\u001b[39;49m\u001b[43mlineTo\u001b[49m\u001b[43m(\u001b[49m\u001b[38;5;241;43m101.51\u001b[39;49m\u001b[43m,\u001b[49m\u001b[43m \u001b[49m\u001b[38;5;241;43m88.81\u001b[39;49m\u001b[43m)\u001b[49m\u001b[43m\\\u001b[49m\n\u001b[1;32m     23\u001b[0m \u001b[43m    \u001b[49m\u001b[38;5;241;43m.\u001b[39;49m\u001b[43mclose\u001b[49m\u001b[43m(\u001b[49m\u001b[43m)\u001b[49m\\\n\u001b[1;32m     24\u001b[0m     \u001b[38;5;241m.\u001b[39mextrude(\u001b[38;5;241m-\u001b[39m\u001b[38;5;241m2.6\u001b[39m, combine\u001b[38;5;241m=\u001b[39m\u001b[38;5;28;01mFalse\u001b[39;00m)\\\n\u001b[1;32m     25\u001b[0m     \u001b[38;5;241m.\u001b[39mtranslate((\u001b[38;5;241m0\u001b[39m, \u001b[38;5;241m0\u001b[39m, zOffset))\n\u001b[1;32m     26\u001b[0m audioJackIndentation \u001b[38;5;241m=\u001b[39m workplane\u001b[38;5;241m.\u001b[39mmoveTo(\u001b[38;5;241m82.78\u001b[39m,\u001b[38;5;241m82.42\u001b[39m)\\\n\u001b[1;32m     27\u001b[0m     \u001b[38;5;241m.\u001b[39mlineTo(\u001b[38;5;241m82.78\u001b[39m, \u001b[38;5;241m88.81\u001b[39m)\\\n\u001b[1;32m     28\u001b[0m     \u001b[38;5;241m.\u001b[39mlineTo(\u001b[38;5;241m101.51\u001b[39m, \u001b[38;5;241m88.81\u001b[39m)\\\n\u001b[0;32m   (...)\u001b[0m\n\u001b[1;32m     31\u001b[0m     \u001b[38;5;241m.\u001b[39mextrude(\u001b[38;5;241m-\u001b[39m\u001b[38;5;241m2.6\u001b[39m, combine\u001b[38;5;241m=\u001b[39m\u001b[38;5;28;01mFalse\u001b[39;00m)\\\n\u001b[1;32m     32\u001b[0m     \u001b[38;5;241m.\u001b[39mtranslate((\u001b[38;5;241m0\u001b[39m, \u001b[38;5;241m0\u001b[39m, zOffset))\n\u001b[1;32m     33\u001b[0m mcuIndentation \u001b[38;5;241m=\u001b[39m workplane\u001b[38;5;241m.\u001b[39mmoveTo(\u001b[38;5;241m82.78\u001b[39m,\u001b[38;5;241m42.26\u001b[39m)\\\n\u001b[1;32m     34\u001b[0m     \u001b[38;5;241m.\u001b[39mlineTo(\u001b[38;5;241m82.78\u001b[39m, \u001b[38;5;241m82.42\u001b[39m)\\\n\u001b[1;32m     35\u001b[0m     \u001b[38;5;241m.\u001b[39mlineTo(\u001b[38;5;241m101.51\u001b[39m, \u001b[38;5;241m82.42\u001b[39m)\\\n\u001b[1;32m     36\u001b[0m     \u001b[38;5;241m.\u001b[39mlineTo(\u001b[38;5;241m101.51\u001b[39m, \u001b[38;5;241m42.26\u001b[39m)\\\n\u001b[1;32m     37\u001b[0m     \u001b[38;5;241m.\u001b[39mclose()\\\n\u001b[1;32m     38\u001b[0m     \u001b[38;5;241m.\u001b[39mextrude(\u001b[38;5;241m-\u001b[39m(top \u001b[38;5;241m-\u001b[39m \u001b[38;5;241m2\u001b[39m),combine\u001b[38;5;241m=\u001b[39m\u001b[38;5;28;01mFalse\u001b[39;00m)\\\n",
      "File \u001b[0;32m/opt/conda/envs/cq/lib/python3.9/site-packages/jupyter_cadquery/replay.py:203\u001b[0m, in \u001b[0;36m_add_context.<locals>.intercept.<locals>.f\u001b[0;34m(*args, **kwargs)\u001b[0m\n\u001b[1;32m    200\u001b[0m     _CTX\u001b[38;5;241m.\u001b[39mupdate(func\u001b[38;5;241m.\u001b[39m\u001b[38;5;18m__name__\u001b[39m, args, kwargs)\n\u001b[1;32m    201\u001b[0m     _trace(_CTX)\n\u001b[0;32m--> 203\u001b[0m result \u001b[38;5;241m=\u001b[39m \u001b[43mfunc\u001b[49m\u001b[43m(\u001b[49m\u001b[38;5;241;43m*\u001b[39;49m\u001b[43margs\u001b[49m\u001b[43m,\u001b[49m\u001b[43m \u001b[49m\u001b[38;5;241;43m*\u001b[39;49m\u001b[38;5;241;43m*\u001b[39;49m\u001b[43mkwargs\u001b[49m\u001b[43m)\u001b[49m\n\u001b[1;32m    205\u001b[0m \u001b[38;5;28;01mif\u001b[39;00m func\u001b[38;5;241m.\u001b[39m\u001b[38;5;18m__name__\u001b[39m \u001b[38;5;241m==\u001b[39m _CTX\u001b[38;5;241m.\u001b[39mfunc:\n\u001b[1;32m    206\u001b[0m     _CTX\u001b[38;5;241m.\u001b[39mobj \u001b[38;5;241m=\u001b[39m result\n",
      "File \u001b[0;32m/opt/conda/envs/cq/lib/python3.9/site-packages/cadquery/cq.py:2753\u001b[0m, in \u001b[0;36mWorkplane.close\u001b[0;34m(self)\u001b[0m\n\u001b[1;32m   2750\u001b[0m \u001b[38;5;66;03m# Need to reset the first point after closing a wire\u001b[39;00m\n\u001b[1;32m   2751\u001b[0m \u001b[38;5;28mself\u001b[39m\u001b[38;5;241m.\u001b[39mctx\u001b[38;5;241m.\u001b[39mfirstPoint \u001b[38;5;241m=\u001b[39m \u001b[38;5;28;01mNone\u001b[39;00m\n\u001b[0;32m-> 2753\u001b[0m \u001b[38;5;28;01mreturn\u001b[39;00m \u001b[38;5;28;43mself\u001b[39;49m\u001b[38;5;241;43m.\u001b[39;49m\u001b[43mwire\u001b[49m\u001b[43m(\u001b[49m\u001b[43m)\u001b[49m\n",
      "File \u001b[0;32m/opt/conda/envs/cq/lib/python3.9/site-packages/jupyter_cadquery/replay.py:203\u001b[0m, in \u001b[0;36m_add_context.<locals>.intercept.<locals>.f\u001b[0;34m(*args, **kwargs)\u001b[0m\n\u001b[1;32m    200\u001b[0m     _CTX\u001b[38;5;241m.\u001b[39mupdate(func\u001b[38;5;241m.\u001b[39m\u001b[38;5;18m__name__\u001b[39m, args, kwargs)\n\u001b[1;32m    201\u001b[0m     _trace(_CTX)\n\u001b[0;32m--> 203\u001b[0m result \u001b[38;5;241m=\u001b[39m \u001b[43mfunc\u001b[49m\u001b[43m(\u001b[49m\u001b[38;5;241;43m*\u001b[39;49m\u001b[43margs\u001b[49m\u001b[43m,\u001b[49m\u001b[43m \u001b[49m\u001b[38;5;241;43m*\u001b[39;49m\u001b[38;5;241;43m*\u001b[39;49m\u001b[43mkwargs\u001b[49m\u001b[43m)\u001b[49m\n\u001b[1;32m    205\u001b[0m \u001b[38;5;28;01mif\u001b[39;00m func\u001b[38;5;241m.\u001b[39m\u001b[38;5;18m__name__\u001b[39m \u001b[38;5;241m==\u001b[39m _CTX\u001b[38;5;241m.\u001b[39mfunc:\n\u001b[1;32m    206\u001b[0m     _CTX\u001b[38;5;241m.\u001b[39mobj \u001b[38;5;241m=\u001b[39m result\n",
      "File \u001b[0;32m/opt/conda/envs/cq/lib/python3.9/site-packages/cadquery/cq.py:2376\u001b[0m, in \u001b[0;36mWorkplane.wire\u001b[0;34m(self, forConstruction)\u001b[0m\n\u001b[1;32m   2373\u001b[0m     \u001b[38;5;28;01mreturn\u001b[39;00m \u001b[38;5;28mself\u001b[39m\n\u001b[1;32m   2375\u001b[0m edges \u001b[38;5;241m=\u001b[39m \u001b[38;5;28mself\u001b[39m\u001b[38;5;241m.\u001b[39mctx\u001b[38;5;241m.\u001b[39mpopPendingEdges()\n\u001b[0;32m-> 2376\u001b[0m w \u001b[38;5;241m=\u001b[39m \u001b[43mWire\u001b[49m\u001b[38;5;241;43m.\u001b[39;49m\u001b[43massembleEdges\u001b[49m\u001b[43m(\u001b[49m\u001b[43medges\u001b[49m\u001b[43m)\u001b[49m\n\u001b[1;32m   2377\u001b[0m \u001b[38;5;28;01mif\u001b[39;00m \u001b[38;5;129;01mnot\u001b[39;00m forConstruction:\n\u001b[1;32m   2378\u001b[0m     \u001b[38;5;28mself\u001b[39m\u001b[38;5;241m.\u001b[39m_addPendingWire(w)\n",
      "File \u001b[0;32m/opt/conda/envs/cq/lib/python3.9/site-packages/cadquery/occ_impl/shapes.py:1916\u001b[0m, in \u001b[0;36mWire.assembleEdges\u001b[0;34m(cls, listOfEdges)\u001b[0m\n\u001b[1;32m   1910\u001b[0m     w \u001b[38;5;241m=\u001b[39m (\n\u001b[1;32m   1911\u001b[0m         \u001b[38;5;124m\"\u001b[39m\u001b[38;5;124mBRepBuilderAPI_MakeWire::Error(): returns the construction status. BRepBuilderAPI_WireDone if the wire is built, or another value of the BRepBuilderAPI_WireError enumeration indicating why the construction failed = \u001b[39m\u001b[38;5;124m\"\u001b[39m\n\u001b[1;32m   1912\u001b[0m         \u001b[38;5;241m+\u001b[39m \u001b[38;5;28mstr\u001b[39m(wire_builder\u001b[38;5;241m.\u001b[39mError())\n\u001b[1;32m   1913\u001b[0m     )\n\u001b[1;32m   1914\u001b[0m     warnings\u001b[38;5;241m.\u001b[39mwarn(w)\n\u001b[0;32m-> 1916\u001b[0m \u001b[38;5;28;01mreturn\u001b[39;00m \u001b[38;5;28mcls\u001b[39m(\u001b[43mwire_builder\u001b[49m\u001b[38;5;241;43m.\u001b[39;49m\u001b[43mWire\u001b[49m\u001b[43m(\u001b[49m\u001b[43m)\u001b[49m)\n",
      "\u001b[0;31mStdFail_NotDone\u001b[0m: BRep_API: command not done"
     ]
    }
   ],
   "source": [
    "cutMWirelessMcuIndentation(caseWireless)"
   ]
  },
  {
   "cell_type": "code",
   "execution_count": 251,
   "id": "fac76122-5477-44c3-a182-f89f8382565d",
   "metadata": {},
   "outputs": [],
   "source": [
    "LCD_SPACING = 5.5\n",
    "caseWireless = createBaseCase()"
   ]
  },
  {
   "cell_type": "code",
   "execution_count": 257,
   "id": "e68433c7-5594-48cd-b94f-deb926468385",
   "metadata": {},
   "outputs": [],
   "source": [
    "caseWireless = createBaseCase()\n",
    "caseWireless = extrudeDisplayCover(caseWireless, OLED_SPACING + ACRYLIC_GLASS_HEIGHT - SWITCH_BORDER_HEIGHT).edges().fillet(2)"
   ]
  },
  {
   "cell_type": "code",
   "execution_count": 246,
   "id": "ccbfbfdd-7630-4ca6-a61f-7fefab51da54",
   "metadata": {},
   "outputs": [],
   "source": [
    "caseWireless = extrudeDisplayCover(caseWireless, LCD_SPACING + 10 - SWITCH_BORDER_HEIGHT)"
   ]
  },
  {
   "cell_type": "code",
   "execution_count": 247,
   "id": "8d1cb276-9205-4812-96d0-3b687bffda42",
   "metadata": {},
   "outputs": [],
   "source": [
    "caseWireless = caseWireless.faces().edges().fillet(2)"
   ]
  },
  {
   "cell_type": "code",
   "execution_count": 258,
   "id": "a8392e25-63fd-4060-9223-86653e94b10d",
   "metadata": {},
   "outputs": [],
   "source": [
    "caseWireless"
   ]
  },
  {
   "cell_type": "code",
   "execution_count": 212,
   "id": "88644f2c-c7d3-4db1-8eb9-2cb66058a2d8",
   "metadata": {},
   "outputs": [
    {
     "name": "stdout",
     "output_type": "stream",
     "text": [
      "100% ⋮————————————————————————————————————————————————————————————⋮ (2/2)  0.00s\n"
     ]
    }
   ],
   "source": [
    "caseWireless.faces().edges(\"<<Y[1]\")"
   ]
  },
  {
   "cell_type": "code",
   "execution_count": 184,
   "id": "ea6b5b91-450d-4da5-a3ff-8d35cc9d8237",
   "metadata": {},
   "outputs": [],
   "source": [
    "caseWireless.faces().edges().fillet(1.2)"
   ]
  },
  {
   "cell_type": "code",
   "execution_count": 142,
   "id": "33e46d6b-cfe0-40e9-b962-92d6cd69bab3",
   "metadata": {},
   "outputs": [
    {
     "ename": "IndexError",
     "evalue": "list index out of range",
     "output_type": "error",
     "traceback": [
      "\u001b[0;31m---------------------------------------------------------------------------\u001b[0m",
      "\u001b[0;31mIndexError\u001b[0m                                Traceback (most recent call last)",
      "Input \u001b[0;32mIn [142]\u001b[0m, in \u001b[0;36m<cell line: 1>\u001b[0;34m()\u001b[0m\n\u001b[0;32m----> 1\u001b[0m \u001b[43mcaseWireless\u001b[49m\u001b[38;5;241;43m.\u001b[39;49m\u001b[43medges\u001b[49m\u001b[43m(\u001b[49m\u001b[38;5;124;43m\"\u001b[39;49m\u001b[38;5;124;43m>Z and |Y\u001b[39;49m\u001b[38;5;124;43m\"\u001b[39;49m\u001b[43m)\u001b[49m\u001b[38;5;241;43m.\u001b[39;49m\u001b[43mitem\u001b[49m\u001b[43m(\u001b[49m\u001b[38;5;241;43m2\u001b[39;49m\u001b[43m)\u001b[49m\n",
      "File \u001b[0;32m/opt/conda/envs/cq/lib/python3.9/site-packages/jupyter_cadquery/replay.py:203\u001b[0m, in \u001b[0;36m_add_context.<locals>.intercept.<locals>.f\u001b[0;34m(*args, **kwargs)\u001b[0m\n\u001b[1;32m    200\u001b[0m     _CTX\u001b[38;5;241m.\u001b[39mupdate(func\u001b[38;5;241m.\u001b[39m\u001b[38;5;18m__name__\u001b[39m, args, kwargs)\n\u001b[1;32m    201\u001b[0m     _trace(_CTX)\n\u001b[0;32m--> 203\u001b[0m result \u001b[38;5;241m=\u001b[39m \u001b[43mfunc\u001b[49m\u001b[43m(\u001b[49m\u001b[38;5;241;43m*\u001b[39;49m\u001b[43margs\u001b[49m\u001b[43m,\u001b[49m\u001b[43m \u001b[49m\u001b[38;5;241;43m*\u001b[39;49m\u001b[38;5;241;43m*\u001b[39;49m\u001b[43mkwargs\u001b[49m\u001b[43m)\u001b[49m\n\u001b[1;32m    205\u001b[0m \u001b[38;5;28;01mif\u001b[39;00m func\u001b[38;5;241m.\u001b[39m\u001b[38;5;18m__name__\u001b[39m \u001b[38;5;241m==\u001b[39m _CTX\u001b[38;5;241m.\u001b[39mfunc:\n\u001b[1;32m    206\u001b[0m     _CTX\u001b[38;5;241m.\u001b[39mobj \u001b[38;5;241m=\u001b[39m result\n",
      "File \u001b[0;32m/opt/conda/envs/cq/lib/python3.9/site-packages/cadquery/cq.py:715\u001b[0m, in \u001b[0;36mWorkplane.item\u001b[0;34m(self, i)\u001b[0m\n\u001b[1;32m    709\u001b[0m \u001b[38;5;28;01mdef\u001b[39;00m \u001b[38;5;21mitem\u001b[39m(\u001b[38;5;28mself\u001b[39m: T, i: \u001b[38;5;28mint\u001b[39m) \u001b[38;5;241m-\u001b[39m\u001b[38;5;241m>\u001b[39m T:\n\u001b[1;32m    710\u001b[0m     \u001b[38;5;124;03m\"\"\"\u001b[39;00m\n\u001b[1;32m    711\u001b[0m \n\u001b[1;32m    712\u001b[0m \u001b[38;5;124;03m    Return the ith item on the stack.\u001b[39;00m\n\u001b[1;32m    713\u001b[0m \u001b[38;5;124;03m    :rtype: a CQ object\u001b[39;00m\n\u001b[1;32m    714\u001b[0m \u001b[38;5;124;03m    \"\"\"\u001b[39;00m\n\u001b[0;32m--> 715\u001b[0m     \u001b[38;5;28;01mreturn\u001b[39;00m \u001b[38;5;28mself\u001b[39m\u001b[38;5;241m.\u001b[39mnewObject([\u001b[38;5;28;43mself\u001b[39;49m\u001b[38;5;241;43m.\u001b[39;49m\u001b[43mobjects\u001b[49m\u001b[43m[\u001b[49m\u001b[43mi\u001b[49m\u001b[43m]\u001b[49m])\n",
      "\u001b[0;31mIndexError\u001b[0m: list index out of range"
     ]
    }
   ],
   "source": [
    "caseWireless.edges(\">Z and |Y\").item(2)dd"
   ]
  },
  {
   "cell_type": "code",
   "execution_count": null,
   "id": "b00d2f67-294e-4d3e-bf38-b8d06a773e15",
   "metadata": {},
   "outputs": [],
   "source": [
    "caseWireless.edges().item(-1)"
   ]
  },
  {
   "cell_type": "code",
   "execution_count": 242,
   "id": "6cd75f61-486d-4c55-b371-7de4f593d879",
   "metadata": {},
   "outputs": [
    {
     "ename": "AttributeError",
     "evalue": "'Edge' object has no attribute 'fillet2D'",
     "output_type": "error",
     "traceback": [
      "\u001b[0;31m---------------------------------------------------------------------------\u001b[0m",
      "\u001b[0;31mAttributeError\u001b[0m                            Traceback (most recent call last)",
      "Input \u001b[0;32mIn [242]\u001b[0m, in \u001b[0;36m<cell line: 1>\u001b[0;34m()\u001b[0m\n\u001b[0;32m----> 1\u001b[0m \u001b[43mcaseWireless\u001b[49m\u001b[38;5;241;43m.\u001b[39;49m\u001b[43medges\u001b[49m\u001b[43m(\u001b[49m\u001b[43m)\u001b[49m\u001b[38;5;241;43m.\u001b[39;49m\u001b[43meach\u001b[49m\u001b[43m(\u001b[49m\u001b[43mchecks\u001b[49m\u001b[43m)\u001b[49m\n",
      "File \u001b[0;32m/opt/conda/envs/cq/lib/python3.9/site-packages/jupyter_cadquery/replay.py:203\u001b[0m, in \u001b[0;36m_add_context.<locals>.intercept.<locals>.f\u001b[0;34m(*args, **kwargs)\u001b[0m\n\u001b[1;32m    200\u001b[0m     _CTX\u001b[38;5;241m.\u001b[39mupdate(func\u001b[38;5;241m.\u001b[39m\u001b[38;5;18m__name__\u001b[39m, args, kwargs)\n\u001b[1;32m    201\u001b[0m     _trace(_CTX)\n\u001b[0;32m--> 203\u001b[0m result \u001b[38;5;241m=\u001b[39m \u001b[43mfunc\u001b[49m\u001b[43m(\u001b[49m\u001b[38;5;241;43m*\u001b[39;49m\u001b[43margs\u001b[49m\u001b[43m,\u001b[49m\u001b[43m \u001b[49m\u001b[38;5;241;43m*\u001b[39;49m\u001b[38;5;241;43m*\u001b[39;49m\u001b[43mkwargs\u001b[49m\u001b[43m)\u001b[49m\n\u001b[1;32m    205\u001b[0m \u001b[38;5;28;01mif\u001b[39;00m func\u001b[38;5;241m.\u001b[39m\u001b[38;5;18m__name__\u001b[39m \u001b[38;5;241m==\u001b[39m _CTX\u001b[38;5;241m.\u001b[39mfunc:\n\u001b[1;32m    206\u001b[0m     _CTX\u001b[38;5;241m.\u001b[39mobj \u001b[38;5;241m=\u001b[39m result\n",
      "File \u001b[0;32m/opt/conda/envs/cq/lib/python3.9/site-packages/cadquery/cq.py:2433\u001b[0m, in \u001b[0;36mWorkplane.each\u001b[0;34m(self, callback, useLocalCoordinates, combine, clean)\u001b[0m\n\u001b[1;32m   2431\u001b[0m     r \u001b[38;5;241m=\u001b[39m r\u001b[38;5;241m.\u001b[39mtransformShape(\u001b[38;5;28mself\u001b[39m\u001b[38;5;241m.\u001b[39mplane\u001b[38;5;241m.\u001b[39mrG)\n\u001b[1;32m   2432\u001b[0m \u001b[38;5;28;01melse\u001b[39;00m:\n\u001b[0;32m-> 2433\u001b[0m     r \u001b[38;5;241m=\u001b[39m \u001b[43mcallback\u001b[49m\u001b[43m(\u001b[49m\u001b[43mobj\u001b[49m\u001b[43m)\u001b[49m\n\u001b[1;32m   2435\u001b[0m \u001b[38;5;28;01mif\u001b[39;00m \u001b[38;5;28misinstance\u001b[39m(r, Wire):\n\u001b[1;32m   2436\u001b[0m     \u001b[38;5;28;01mif\u001b[39;00m \u001b[38;5;129;01mnot\u001b[39;00m r\u001b[38;5;241m.\u001b[39mforConstruction:\n",
      "Input \u001b[0;32mIn [241]\u001b[0m, in \u001b[0;36mchecks\u001b[0;34m(item)\u001b[0m\n\u001b[1;32m      6\u001b[0m \u001b[38;5;28;01mif\u001b[39;00m(item \u001b[38;5;241m==\u001b[39m caseWireless\u001b[38;5;241m.\u001b[39medges()\u001b[38;5;241m.\u001b[39mitem(\u001b[38;5;241m3\u001b[39m)\u001b[38;5;241m.\u001b[39mval()):\n\u001b[1;32m      7\u001b[0m     \u001b[38;5;28;01mreturn\u001b[39;00m\n\u001b[0;32m----> 8\u001b[0m \u001b[43mitem\u001b[49m\u001b[38;5;241;43m.\u001b[39;49m\u001b[43mfillet2D\u001b[49m(\u001b[38;5;241m2\u001b[39m)\n",
      "\u001b[0;31mAttributeError\u001b[0m: 'Edge' object has no attribute 'fillet2D'"
     ]
    }
   ],
   "source": [
    "caseWireless.edges().each(checks)"
   ]
  },
  {
   "cell_type": "code",
   "execution_count": 241,
   "id": "d31e4979-7db7-425f-ba2a-a9939287c7c2",
   "metadata": {},
   "outputs": [],
   "source": [
    "def checks(item):\n",
    "    if(item == caseWireless.edges().item(-1).val()):\n",
    "        return\n",
    "    if(item == caseWireless.edges().item(-3).val()):\n",
    "        return\n",
    "    if(item == caseWireless.edges().item(3).val()):\n",
    "        return\n",
    "    item.fillet2D(2)"
   ]
  },
  {
   "cell_type": "code",
   "execution_count": null,
   "id": "48dd53ce-48eb-489a-8c56-24f7d4e6c8be",
   "metadata": {},
   "outputs": [],
   "source": []
  },
  {
   "cell_type": "code",
   "execution_count": null,
   "id": "7db00f17-3463-4dc1-b038-c633d491af91",
   "metadata": {},
   "outputs": [],
   "source": []
  },
  {
   "cell_type": "code",
   "execution_count": null,
   "id": "62e7fa73-92f0-4872-9d31-a5f3ab52b34f",
   "metadata": {},
   "outputs": [],
   "source": []
  },
  {
   "cell_type": "code",
   "execution_count": null,
   "id": "5d6ff21f-f35b-46a7-83c5-f3a5bc12924f",
   "metadata": {},
   "outputs": [],
   "source": []
  },
  {
   "cell_type": "code",
   "execution_count": null,
   "id": "cea2aa1f-e623-41db-8f61-17d6bbb5f544",
   "metadata": {},
   "outputs": [],
   "source": []
  },
  {
   "cell_type": "code",
   "execution_count": null,
   "id": "c9f42401-2e07-479f-81ad-c4de0ce8c7d1",
   "metadata": {},
   "outputs": [],
   "source": []
  },
  {
   "cell_type": "code",
   "execution_count": null,
   "id": "500c766d-79a9-4ea9-9a0a-fdf524621008",
   "metadata": {},
   "outputs": [],
   "source": []
  }
 ],
 "metadata": {
  "kernelspec": {
   "display_name": "Python 3 (ipykernel)",
   "language": "python",
   "name": "python3"
  },
  "language_info": {
   "codemirror_mode": {
    "name": "ipython",
    "version": 3
   },
   "file_extension": ".py",
   "mimetype": "text/x-python",
   "name": "python",
   "nbconvert_exporter": "python",
   "pygments_lexer": "ipython3",
   "version": "3.9.12"
  }
 },
 "nbformat": 4,
 "nbformat_minor": 5
}
