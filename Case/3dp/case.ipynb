{
 "cells": [
  {
   "cell_type": "code",
   "execution_count": 1,
   "id": "b5f19107-6506-4e5a-8b9f-084e8bdc7a13",
   "metadata": {},
   "outputs": [
    {
     "name": "stdout",
     "output_type": "stream",
     "text": [
      "Overwriting auto display for cadquery Workplane and Shape\n",
      "\n",
      "Enabling jupyter_cadquery replay\n",
      "\n",
      "jupyter_cadquery  3.1.0rc4\n",
      "cad_viewer_widget 1.3.2\n",
      "OCP               7.5.3\n"
     ]
    }
   ],
   "source": [
    "import cadquery as cq\n",
    "\n",
    "from jupyter_cadquery import (\n",
    "    versions,\n",
    "    show, PartGroup, Part, \n",
    "    get_viewer, close_viewer, get_viewers, close_viewers, open_viewer, set_defaults, get_defaults, open_viewer,\n",
    "    get_pick,\n",
    ")\n",
    "\n",
    "from jupyter_cadquery.replay import replay, enable_replay, disable_replay\n",
    "\n",
    "enable_replay(False)\n",
    "\n",
    "set_defaults(\n",
    "    cad_width=640, \n",
    "    height=480, \n",
    ")\n",
    "\n",
    "print()\n",
    "versions()"
   ]
  },
  {
   "cell_type": "code",
   "execution_count": 2,
   "id": "b0d6ed70-74de-425e-9348-9f50b492bd92",
   "metadata": {},
   "outputs": [],
   "source": [
    "cv = open_viewer(\"Assembly\", cad_width=850, height=1240)\n",
    "set_defaults(viewer=\"Assembly\")"
   ]
  },
  {
   "cell_type": "code",
   "execution_count": 3,
   "id": "d6808eb7-5680-4607-a66e-de5ac78fd667",
   "metadata": {},
   "outputs": [],
   "source": [
    "SWITCH_BORDER_HEIGHT = 5\n",
    "SWITCH_PLATE_HEIGHT = 1.2\n",
    "PCB_HEIGHT = 1.6\n",
    "PCB_BOTTOM_SPACING = 2.4\n",
    "BOTTOM_PLATE_HEIGHT = 1.2\n",
    "DISPLAY_SPACING = 8\n",
    "CASE_HEIGHT = SWITCH_BORDER_HEIGHT\\\n",
    "            + SWITCH_PLATE_HEIGHT\\\n",
    "            + PCB_HEIGHT\\\n",
    "            + PCB_BOTTOM_SPACING\\\n",
    "            + BOTTOM_PLATE_HEIGHT\n"
   ]
  },
  {
   "cell_type": "code",
   "execution_count": 19,
   "id": "04d27c8e-94d4-4703-899d-eefa20842f67",
   "metadata": {},
   "outputs": [],
   "source": [
    "def createCaseOutline():\n",
    "    return cq.Workplane(\"XY\")\\\n",
    "    .moveTo(78.77, -42.15)\\\n",
    "    .lineTo(78.77, -90.9)\\\n",
    "    .radiusArc((75.91, -96.0), 8)\\\n",
    "    .lineTo(70.57, -99.08)\\\n",
    "    .radiusArc((68.98, -105.04), -4.3)\\\n",
    "    .lineTo(82.05, -127.54)\\\n",
    "    .radiusArc((88.00, -129.13), -4.3)\\\n",
    "    .radiusArc((118.04, -116.55), 79.9)\\\n",
    "    .lineTo(176.41, -116.55)\\\n",
    "    .radiusArc((179.39, -113.61), -2.9)\\\n",
    "    .lineTo(179.39, -110.34)\\\n",
    "    .radiusArc((182.34, -107.39), 2.9)\\\n",
    "    .lineTo(194.62, -107.39)\\\n",
    "    .radiusArc((197.6, -104.45), -2.9)\\\n",
    "    .lineTo(197.6, -51.11)\\\n",
    "    .radiusArc((194.66, -48.13), -2.9)\\\n",
    "    .lineTo(182.34, -48.14)\\\n",
    "    .radiusArc((179.4, -45.16), 2.9)\\\n",
    "    .lineTo(179.4, -41.12)\\\n",
    "    .radiusArc((177.15, -37.56), -3.7)\\\n",
    "    .radiusArc((101.24, -37.15), -104.25)\\\n",
    "    .lineTo(83.77, -37.15)\\\n",
    "    .radiusArc((78.77, -42.15), -5)\\\n",
    "    .close()\n",
    "\n",
    "def createBottomPlate():\n",
    "    return createCaseOutline()\\\n",
    "        .faces()\\\n",
    "        .offset2D(-3)\\\n",
    "        .extrude(BOTTOM_PLATE_HEIGHT)\n",
    "\n",
    "def createCase():\n",
    "    return createCaseOutline()\\\n",
    "        .faces()\\\n",
    "        .extrude(CASE_HEIGHT)\\\n",
    "        .fillet(2)\\\n",
    "        .cut(createBottomPlate())"
   ]
  },
  {
   "cell_type": "code",
   "execution_count": 5,
   "id": "583f740e-4979-4dce-be42-64d88bfe8b2f",
   "metadata": {},
   "outputs": [],
   "source": [
    "switches = cq.importers.importDXF('switch_outline.dxf', tol=1e-3)\\\n",
    "    .wires()\\\n",
    "    .toPending()\\\n",
    "    .faces()\\\n",
    "    .extrude(BOTTOM_PLATE_HEIGHT + PCB_BOTTOM_SPACING + PCB_HEIGHT + SWITCH_PLATE_HEIGHT)"
   ]
  },
  {
   "cell_type": "code",
   "execution_count": 6,
   "id": "af829ae4-6f78-4f85-993e-c24d9f88eeed",
   "metadata": {},
   "outputs": [],
   "source": [
    "keycaps = cq.importers.importDXF('keycaps_outline.dxf', tol=1e-3)\\\n",
    "    .wires()\\\n",
    "    .toPending()\\\n",
    "    .faces()\\\n",
    "    .extrude(SWITCH_BORDER_HEIGHT)\\\n",
    "    .translate((0,0,CASE_HEIGHT - SWITCH_BORDER_HEIGHT))"
   ]
  },
  {
   "cell_type": "code",
   "execution_count": 7,
   "id": "2e26641e-2abb-4e6e-a6e3-c305f634f862",
   "metadata": {},
   "outputs": [],
   "source": [
    "pcb = cq.importers.importDXF('pcb_outline.dxf', tol=1e-3)\\\n",
    "    .wires()\\\n",
    "    .toPending()\\\n",
    "    .faces()\\\n",
    "    .extrude(BOTTOM_PLATE_HEIGHT + PCB_BOTTOM_SPACING + PCB_HEIGHT)"
   ]
  },
  {
   "cell_type": "code",
   "execution_count": 20,
   "id": "9c54d584-23ee-452c-91f0-ea51b5c6518c",
   "metadata": {},
   "outputs": [],
   "source": [
    "case = createCase()\\\n",
    "    .cut(keycaps)\\\n",
    "    .cut(switches)\\\n",
    "    .cut(pcb)"
   ]
  },
  {
   "cell_type": "code",
   "execution_count": 41,
   "id": "eb01a1ec-2f91-45b1-8525-7d4077569334",
   "metadata": {},
   "outputs": [
    {
     "name": "stdout",
     "output_type": "stream",
     "text": [
      "100% ⋮————————————————————————————————————————————————————————————⋮ (2/2)  0.02s\n"
     ]
    },
    {
     "data": {
      "text/plain": [
       "<cad_viewer_widget.widget.CadViewer at 0x7f596f20b7c0>"
      ]
     },
     "execution_count": 41,
     "metadata": {},
     "output_type": "execute_result"
    }
   ],
   "source": [
    "all = (cq.Assembly()\\\n",
    "       .add(case, name=\"case\", color=cq.Color(\"paleturquoise3\"))\\\n",
    "       .add(createBottomPlate(), name=\"plate\", color=cq.Color(\"paleturquoise4\")))\n",
    "show(all)"
   ]
  },
  {
   "cell_type": "code",
   "execution_count": null,
   "id": "20e23945-f77a-4595-92bc-800b28e3db9c",
   "metadata": {},
   "outputs": [],
   "source": []
  }
 ],
 "metadata": {
  "kernelspec": {
   "display_name": "Python 3 (ipykernel)",
   "language": "python",
   "name": "python3"
  },
  "language_info": {
   "codemirror_mode": {
    "name": "ipython",
    "version": 3
   },
   "file_extension": ".py",
   "mimetype": "text/x-python",
   "name": "python",
   "nbconvert_exporter": "python",
   "pygments_lexer": "ipython3",
   "version": "3.9.12"
  }
 },
 "nbformat": 4,
 "nbformat_minor": 5
}
