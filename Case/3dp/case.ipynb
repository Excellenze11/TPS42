{
 "cells": [
  {
   "cell_type": "markdown",
   "id": "e2eb3898-5efd-469c-88a0-765a50e62369",
   "metadata": {},
   "source": [
    "# Case\n",
    "## Imports"
   ]
  },
  {
   "cell_type": "code",
   "execution_count": 1,
   "id": "b5f19107-6506-4e5a-8b9f-084e8bdc7a13",
   "metadata": {},
   "outputs": [
    {
     "name": "stdout",
     "output_type": "stream",
     "text": [
      "Overwriting auto display for cadquery Workplane and Shape\n",
      "\n",
      "Enabling jupyter_cadquery replay\n",
      "\n",
      "jupyter_cadquery  3.1.0rc4\n",
      "cad_viewer_widget 1.3.2\n",
      "OCP               7.5.3\n"
     ]
    }
   ],
   "source": [
    "import cadquery as cq\n",
    "from cadquery import exporters\n",
    "\n",
    "from jupyter_cadquery import (\n",
    "    versions,\n",
    "    show, PartGroup, Part, \n",
    "    get_viewer, close_viewer, get_viewers, close_viewers, open_viewer, set_defaults, get_defaults, open_viewer,\n",
    "    get_pick,\n",
    ")\n",
    "\n",
    "from jupyter_cadquery.replay import replay, enable_replay, disable_replay\n",
    "\n",
    "enable_replay(False)\n",
    "\n",
    "set_defaults(\n",
    "    cad_width=640, \n",
    "    height=480, \n",
    ")\n",
    "\n",
    "print()\n",
    "versions()"
   ]
  },
  {
   "cell_type": "markdown",
   "id": "73238ce2-a7be-4d2a-8d74-b29af483af9b",
   "metadata": {},
   "source": [
    "## Viewer"
   ]
  },
  {
   "cell_type": "code",
   "execution_count": 2,
   "id": "b0d6ed70-74de-425e-9348-9f50b492bd92",
   "metadata": {},
   "outputs": [],
   "source": [
    "cv = open_viewer(\"Assembly\", cad_width=850, height=1240)\n",
    "set_defaults(viewer=\"Assembly\")"
   ]
  },
  {
   "cell_type": "markdown",
   "id": "925735c1-28d0-4aa1-8ae0-a1ddc7d85daf",
   "metadata": {},
   "source": [
    "## Constants"
   ]
  },
  {
   "cell_type": "code",
   "execution_count": 3,
   "id": "d6808eb7-5680-4607-a66e-de5ac78fd667",
   "metadata": {},
   "outputs": [],
   "source": [
    "BOTTOM_PLATE_HEIGHT = 1.0\n",
    "PCB_BOTTOM_SPACING = 2.4\n",
    "PCB_HEIGHT = 1.6\n",
    "SWITCH_PLATE_HEIGHT = 1.2\n",
    "OLED_SPACING = 8\n",
    "ACRYLIC_GLASS_HEIGHT = 3\n",
    "\n",
    "SWITCH_BORDER_HEIGHT = 5\n",
    "\n",
    "HOLES = [((96.9, 107.88), 2, 0), \n",
    "         ((175.28, 86.28), 2, 0), \n",
    "         ((135.05, 37), 4, BOTTOM_PLATE_HEIGHT + 4)]"
   ]
  },
  {
   "cell_type": "markdown",
   "id": "ed506a52-cfeb-427b-a270-d551c61d80e9",
   "metadata": {},
   "source": [
    "## Helper Functions"
   ]
  },
  {
   "cell_type": "code",
   "execution_count": 4,
   "id": "04d27c8e-94d4-4703-899d-eefa20842f67",
   "metadata": {},
   "outputs": [],
   "source": [
    "def createCaseOutline():\n",
    "    return cq.Workplane(\"XY\")\\\n",
    "    .moveTo(78.77, -42.15)\\\n",
    "    .lineTo(78.77, -90.9)\\\n",
    "    .radiusArc((75.91, -96.0), 8)\\\n",
    "    .lineTo(70.57, -99.08)\\\n",
    "    .radiusArc((68.98, -105.04), -4.3)\\\n",
    "    .lineTo(82.05, -127.54)\\\n",
    "    .radiusArc((88.00, -129.13), -4.3)\\\n",
    "    .radiusArc((118.04, -116.55), 79.9)\\\n",
    "    .lineTo(176.41, -116.55)\\\n",
    "    .radiusArc((179.39, -113.61), -2.9)\\\n",
    "    .lineTo(179.39, -110.34)\\\n",
    "    .radiusArc((182.34, -107.39), 2.9)\\\n",
    "    .lineTo(194.62, -107.39)\\\n",
    "    .radiusArc((197.6, -104.45), -2.9)\\\n",
    "    .lineTo(197.6, -51.11)\\\n",
    "    .radiusArc((194.66, -48.13), -2.9)\\\n",
    "    .lineTo(182.34, -48.14)\\\n",
    "    .radiusArc((179.4, -45.16), 2.9)\\\n",
    "    .lineTo(179.4, -41.12)\\\n",
    "    .radiusArc((177.15, -37.56), -3.7)\\\n",
    "    .radiusArc((103.15, -37.15), -104.25)\\\n",
    "    .lineTo(83.77, -37.15)\\\n",
    "    .radiusArc((78.77, -42.15), -5)\\\n",
    "    .close()\n",
    "\n",
    "def createBottomPlate():\n",
    "    return createCaseOutline()\\\n",
    "        .faces()\\\n",
    "        .offset2D(-3)\\\n",
    "        .extrude(BOTTOM_PLATE_HEIGHT)\n",
    "\n",
    "def createDisplayCover():\n",
    "    return cq.Workplane(\"XY\")\\\n",
    "    .moveTo(78.77, -42.15)\\\n",
    "    .lineTo(78.77, -90.9)\\\n",
    "    .lineTo(103.14, -90.9)\\\n",
    "    .lineTo(103.14, -37.15)\\\n",
    "    .lineTo(83.77, -37.15)\\\n",
    "    .radiusArc((78.77, -42.15), -5)\\\n",
    "    .close()\\\n",
    "    .faces()\\\n",
    "    .extrude(OLED_SPACING + ACRYLIC_GLASS_HEIGHT)\\\n",
    "    .translate((0, 0, BOTTOM_PLATE_HEIGHT + PCB_BOTTOM_SPACING + PCB_HEIGHT))\n",
    "\n",
    "def extrudeDisplayCover(case):\n",
    "    workplane = case.faces(\">Z\").workplane().moveTo(78.77, -42.15)\\\n",
    "        .lineTo(78.77, -90.9)\\\n",
    "        .lineTo(103.15, -90.9)\\\n",
    "        .lineTo(103.15, -37.15)\\\n",
    "        .lineTo(83.77, -37.15)\\\n",
    "        .radiusArc((78.77, -42.15), -5)\\\n",
    "        .close()\\\n",
    "        .workplane(offset=OLED_SPACING + ACRYLIC_GLASS_HEIGHT - SWITCH_BORDER_HEIGHT)\n",
    "    return workplane.moveTo(82.77, -42.15)\\\n",
    "    .lineTo(82.77, -85.9)\\\n",
    "    .lineTo(103.15, -85.9)\\\n",
    "    .lineTo(103.15, -39.15)\\\n",
    "    .lineTo(83.77, -39.15)\\\n",
    "    .radiusArc((82.77, -42.15), -5)\\\n",
    "    .close()\\\n",
    "    .loft(combine=True)\n",
    "\n",
    "def cutBottomPlate(case):\n",
    "    return case.cut(createBottomPlate())\n",
    "\n",
    "def cutSwitchHoles(case):\n",
    "    zOffset = BOTTOM_PLATE_HEIGHT + PCB_BOTTOM_SPACING + PCB_HEIGHT\n",
    "    cutout = cq.importers.importDXF('switch_outline.dxf', tol=1e-3)\\\n",
    "        .wires()\\\n",
    "        .toPending()\\\n",
    "        .faces()\\\n",
    "        .extrude(SWITCH_PLATE_HEIGHT)\\\n",
    "        .translate((0, 0, zOffset))\n",
    "    return case.cut(cutout)\n",
    "\n",
    "def cutKeycapsBorder(case):\n",
    "    zOffset = BOTTOM_PLATE_HEIGHT + PCB_BOTTOM_SPACING + PCB_HEIGHT + SWITCH_PLATE_HEIGHT\n",
    "    cutout = cq.importers.importDXF('keycaps_outline.dxf', tol=1e-3)\\\n",
    "        .wires()\\\n",
    "        .toPending()\\\n",
    "        .faces()\\\n",
    "        .extrude(SWITCH_BORDER_HEIGHT + 5)\\\n",
    "        .translate((0, 0, zOffset))\n",
    "    return case.cut(cutout)\n",
    "\n",
    "def cutPcb(case):\n",
    "    zOffset = BOTTOM_PLATE_HEIGHT\n",
    "    cutout = cq.importers.importDXF('pcb_outline.dxf', tol=1e-3)\\\n",
    "        .wires()\\\n",
    "        .toPending()\\\n",
    "        .faces()\\\n",
    "        .extrude(PCB_BOTTOM_SPACING + PCB_HEIGHT)\\\n",
    "        .translate((0, 0, zOffset))\n",
    "    return case.cut(cutout)\n",
    "\n",
    "def cutMcu(case):\n",
    "    zOffset = BOTTOM_PLATE_HEIGHT + PCB_BOTTOM_SPACING + PCB_HEIGHT\n",
    "    workplane = case.faces(\"<Z\").workplane()\n",
    "    vv = workplane.moveTo(82.78,88.81)\\\n",
    "        .lineTo(82.78, 96.18)\\\n",
    "        .lineTo(101.51, 96.18)\\\n",
    "        .lineTo(101.51, 88.81)\\\n",
    "        .close()\\\n",
    "        .extrude(-1, combine=False)\\\n",
    "        .translate((0, 0, zOffset))\n",
    "    bb = workplane.moveTo(82.78,82.42)\\\n",
    "        .lineTo(82.78, 88.81)\\\n",
    "        .lineTo(101.51, 88.81)\\\n",
    "        .lineTo(101.51, 82.42)\\\n",
    "        .close()\\\n",
    "        .extrude(-5.5, combine=False)\\\n",
    "        .translate((0, 0, zOffset))\n",
    "    \n",
    "    nn = workplane.moveTo(82.78,42.26)\\\n",
    "        .lineTo(82.78, 82.42)\\\n",
    "        .lineTo(101.51, 82.42)\\\n",
    "        .lineTo(101.51, 42.26)\\\n",
    "        .close()\\\n",
    "        .extrude(-10,combine=False)\\\n",
    "        .translate((0, 0, zOffset))\n",
    "    \n",
    "    return case.cut(vv).cut(bb).cut(nn)\n",
    "\n",
    "def cutAcrylicGlassWindow(case):\n",
    "    zOffset = BOTTOM_PLATE_HEIGHT + PCB_BOTTOM_SPACING + PCB_HEIGHT +SWITCH_PLATE_HEIGHT + OLED_SPACING\n",
    "    cutout = case.faces(\"<Z\").workplane()\\\n",
    "        .moveTo(86.38,48.14)\\\n",
    "        .lineTo(86.38, 75.14)\\\n",
    "        .lineTo(98.38, 75.14)\\\n",
    "        .lineTo(98.38, 48.14)\\\n",
    "        .close()\\\n",
    "        .extrude(-ACRYLIC_GLASS_HEIGHT, combine = False)\\\n",
    "        .translate((0, 0, zOffset))\n",
    "    return case.cut(cutout)\n",
    "\n",
    "def cutAudioJack(case, rightSide):\n",
    "    jackDiameter = 2.5\n",
    "    shieldPcbHeight = 0.6\n",
    "    zOffset = BOTTOM_PLATE_HEIGHT + PCB_BOTTOM_SPACING + jackDiameter - shieldPcbHeight\n",
    "    yOffset = -83.81 if rightSide else -85.55\n",
    "    side = case.faces(\">X[0]\").workplane(centerOption=\"ProjectedOrigin\", origin=(82.77, yOffset, zOffset))\n",
    "    inner = side.circle(2.5).extrude(-5,combine=False)\n",
    "    outer = side.circle(3.7).extrude(-2,combine=False)\n",
    "    return case.cut(inner).cut(outer)\n",
    "\n",
    "def cutUsbCConnector(case):\n",
    "    zOrigin = BOTTOM_PLATE_HEIGHT + PCB_BOTTOM_SPACING + 2.5\n",
    "    workplane = case.faces(\"<Y[2]\").workplane(centerOption=\"ProjectedOrigin\", origin=(92.41, -41.75, zOrigin))\n",
    "    inner = workplane.rect(9, 3.5).extrude(-6, combine=False).edges(\"-Y\").fillet(1.7)\n",
    "    outer = workplane.rect(12, 7).extrude(-2.5, combine=False).edges(\"-Y\").fillet(3.4)\n",
    "    return case.cut(inner).cut(outer)\n",
    "\n",
    "def cutMountingHoles(case):\n",
    "    for hole in HOLES:\n",
    "        case = cutMountingHole(case, hole[0], diameter = hole[1], depth = hole[2])\n",
    "    return cutMountingHole(case, (121.227683, 58.4)) #TrackPoint\n",
    "\n",
    "def cutMountingHole(case, pnt, diameter = 2, depth = 0):\n",
    "    defaultDepth = BOTTOM_PLATE_HEIGHT + PCB_BOTTOM_SPACING + PCB_HEIGHT + SWITCH_PLATE_HEIGHT\n",
    "    d = defaultDepth if depth == 0 else depth\n",
    "    return case.faces(\"<Z\").workplane().moveTo(pnt[0], pnt[1]).hole(diameter, d)\n",
    "\n",
    "def createBaseCase():\n",
    "    height = SWITCH_BORDER_HEIGHT\\\n",
    "            + SWITCH_PLATE_HEIGHT\\\n",
    "            + PCB_HEIGHT\\\n",
    "            + PCB_BOTTOM_SPACING\\\n",
    "            + BOTTOM_PLATE_HEIGHT\n",
    "    return createCaseOutline()\\\n",
    "        .faces()\\\n",
    "        .extrude(height)"
   ]
  },
  {
   "cell_type": "markdown",
   "id": "709e595b-a35b-4c4c-ad83-eba5af945930",
   "metadata": {},
   "source": [
    "## Wired Case (right)"
   ]
  },
  {
   "cell_type": "code",
   "execution_count": 6,
   "id": "c13000aa-e2dd-4f1b-815b-1120de0e4428",
   "metadata": {},
   "outputs": [
    {
     "data": {
      "text/plain": [
       "<cad_viewer_widget.widget.CadViewer at 0x7f0db1855700>"
      ]
     },
     "execution_count": 6,
     "metadata": {},
     "output_type": "execute_result"
    }
   ],
   "source": [
    "caseWiredRight = createBaseCase()\n",
    "caseWiredRight = extrudeDisplayCover(caseWiredRight).edges().fillet(2)\n",
    "caseWiredRight = cutPcb(caseWiredRight)\n",
    "caseWiredRight = cutKeycapsBorder(caseWiredRight)\n",
    "caseWiredRight = cutSwitchHoles(caseWiredRight)\n",
    "caseWiredRight = cutBottomPlate(caseWiredRight)\n",
    "caseWiredRight = cutAcrylicGlassWindow(caseWiredRight)\n",
    "caseWiredRight = cutAudioJack(caseWiredRight, rightSide=True)\n",
    "caseWiredRight = cutMcu(caseWiredRight)\n",
    "caseWiredRight = cutUsbCConnector(caseWiredRight)\n",
    "caseWiredRight = cutMountingHoles(caseWiredRight)\n",
    "show(caseWiredRight)"
   ]
  },
  {
   "cell_type": "markdown",
   "id": "27af8617-aeff-4cd9-9399-d941dc5df1e8",
   "metadata": {},
   "source": [
    "## Bottom Plate (right)"
   ]
  },
  {
   "cell_type": "code",
   "execution_count": 7,
   "id": "bce49919-033f-41af-985e-012cad7a7ce9",
   "metadata": {},
   "outputs": [
    {
     "data": {
      "text/plain": [
       "<cad_viewer_widget.widget.CadViewer at 0x7f0db1855700>"
      ]
     },
     "execution_count": 7,
     "metadata": {},
     "output_type": "execute_result"
    }
   ],
   "source": [
    "bottomPlateRight = createBottomPlate()\n",
    "\n",
    "for hole in HOLES:\n",
    "    bottomPlateRight = bottomPlateRight.faces(\"<Z[1]\")\\\n",
    "        .workplane(centerOption=\"ProjectedOrigin\", origin=(hole[0][0], -hole[0][1], 0))\\\n",
    "        .cskHole(2, 3, 82, depth=None)\n",
    "    \n",
    "show(bottomPlateRight)"
   ]
  },
  {
   "cell_type": "code",
   "execution_count": 8,
   "id": "7178ed02-61e2-4ab3-b374-7df46bd9e052",
   "metadata": {},
   "outputs": [
    {
     "name": "stdout",
     "output_type": "stream",
     "text": [
      "100% ⋮————————————————————————————————————————————————————————————⋮ (2/2)  0.33s\n"
     ]
    },
    {
     "data": {
      "text/plain": [
       "<cad_viewer_widget.widget.CadViewer at 0x7f0db1855700>"
      ]
     },
     "execution_count": 8,
     "metadata": {},
     "output_type": "execute_result"
    }
   ],
   "source": [
    "all = (cq.Assembly()\\\n",
    "       .add(caseWiredRight, name=\"case\", color=cq.Color(\"paleturquoise3\"))\\\n",
    "       .add(bottomPlateRight, name=\"plate\", color=cq.Color(\"paleturquoise4\"))\n",
    "      )\n",
    "show(all)"
   ]
  },
  {
   "cell_type": "code",
   "execution_count": 9,
   "id": "29573b67-1f69-4758-9e2f-cea22e6f83bd",
   "metadata": {},
   "outputs": [],
   "source": [
    "exporters.export(caseWiredRight, 'case_wired_right.stl')\n",
    "exporters.export(bottomPlateRight, 'bottomPlate_right.stl')"
   ]
  },
  {
   "cell_type": "code",
   "execution_count": null,
   "id": "ca66eee7-0146-4774-8554-a1fa80b3fd30",
   "metadata": {},
   "outputs": [],
   "source": []
  }
 ],
 "metadata": {
  "kernelspec": {
   "display_name": "Python 3 (ipykernel)",
   "language": "python",
   "name": "python3"
  },
  "language_info": {
   "codemirror_mode": {
    "name": "ipython",
    "version": 3
   },
   "file_extension": ".py",
   "mimetype": "text/x-python",
   "name": "python",
   "nbconvert_exporter": "python",
   "pygments_lexer": "ipython3",
   "version": "3.9.12"
  }
 },
 "nbformat": 4,
 "nbformat_minor": 5
}
